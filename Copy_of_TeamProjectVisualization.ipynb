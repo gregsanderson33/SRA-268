{
  "nbformat": 4,
  "nbformat_minor": 0,
  "metadata": {
    "colab": {
      "name": "Copy of TeamProjectVisualization.ipynb",
      "provenance": [],
      "include_colab_link": true
    },
    "kernelspec": {
      "name": "python3",
      "display_name": "Python 3"
    }
  },
  "cells": [
    {
      "cell_type": "markdown",
      "metadata": {
        "id": "view-in-github",
        "colab_type": "text"
      },
      "source": [
        "<a href=\"https://colab.research.google.com/github/gregsanderson33/SRA-268/blob/master/Copy_of_TeamProjectVisualization.ipynb\" target=\"_parent\"><img src=\"https://colab.research.google.com/assets/colab-badge.svg\" alt=\"Open In Colab\"/></a>"
      ]
    },
    {
      "cell_type": "markdown",
      "metadata": {
        "id": "Kw5PZBtl0Ob6",
        "colab_type": "text"
      },
      "source": [
        "#  Coronavirus Cases Per State in the United States"
      ]
    },
    {
      "cell_type": "markdown",
      "metadata": {
        "id": "iXWAmSVB0Rno",
        "colab_type": "text"
      },
      "source": [
        "Contributors:\n",
        "\n",
        "\n",
        "*   Gregory Sanderson\n",
        "*   Rahul Patel\n",
        "*   Samuel Woytowich\n",
        "\n",
        "\n"
      ]
    },
    {
      "cell_type": "markdown",
      "metadata": {
        "id": "WpaW-i5l0ZHn",
        "colab_type": "text"
      },
      "source": [
        "## Background"
      ]
    },
    {
      "cell_type": "markdown",
      "metadata": {
        "id": "E4VKsOvP0eev",
        "colab_type": "text"
      },
      "source": [
        "Our group decided that the best idea for our case study would be to provide the viewer with updated Covid-19 cases for every state in the United States. As we all know, the United States has been hit extremely hard from the coronavirus outbreak and it has affected thousands of communities accross the country. Not only have communities been hit hard, but the state of our economy right now is in question as millions of people have lost their jobs, and thousands of small businesses have been forced to close all around the country. The coronvirus has also affected education in various ways in which public and private schools/Universities are being forced to close and move classes online due to the fact that public gatherings are prohibited as part of the social distancing guidelines. Our group thinks that conducting this case study is beneficial to the viewer because many people are misinformed about the severity of this virus, as well as how different states compare to each other. By providing updated statistics with the amount of Covid-19 cases per state, the viewer will be able to draw their own inferences about why some states have more cases than others. The viewer will also be able to compare and contrast where the hotspots are with this virus, and be able to conclude which states are least affected by it. Overall, we want the viewer to be become more educated about the serioussness in some states about the virus, in addition to gaining more information about how and why each state differentiates from each other. "
      ]
    },
    {
      "cell_type": "markdown",
      "metadata": {
        "id": "7d8vfcGufV0_",
        "colab_type": "text"
      },
      "source": [
        "### Goal"
      ]
    },
    {
      "cell_type": "markdown",
      "metadata": {
        "id": "e1jKSGTjfY2H",
        "colab_type": "text"
      },
      "source": [
        "The goal of our project is to provide the viewer with updated statistics and visuals so that they will be able to compare and contrast the severity of the coronavirus between the 50 states. By examining our written report and visualization, the viewer will be able to draw their own inferences about why each state has more/less cases than others."
      ]
    },
    {
      "cell_type": "markdown",
      "metadata": {
        "id": "GOxy_TvCfi54",
        "colab_type": "text"
      },
      "source": [
        "### Assumptions"
      ]
    },
    {
      "cell_type": "markdown",
      "metadata": {
        "id": "cw1v_1MMfnAR",
        "colab_type": "text"
      },
      "source": [
        "10 assumptions for our data model:\n",
        "*   New York has the most Covid-19 cases\n",
        "*   The east coast has more cases than the west coast\n",
        "*   The least populated states have less cases than the more populated states\n",
        "*   The warmer average temperature states have less cases\n",
        "*   States with bigger, major cities have more cases \n",
        "*   Northern states have more cases than Southern states\n",
        "*   A more diverse population results to an increase in cases\n",
        "*   Older people have more cases than younger people\n",
        "*   Ethnicities that are typically poorer than others, are being hit harder\n",
        "*   The states that are hit the hardest will take a longer time for those residents to go back to work\n",
        "\n"
      ]
    },
    {
      "cell_type": "markdown",
      "metadata": {
        "id": "jKGILpu7gWr6",
        "colab_type": "text"
      },
      "source": [
        "### Data Sources"
      ]
    },
    {
      "cell_type": "markdown",
      "metadata": {
        "id": "uwCao7AtgbNn",
        "colab_type": "text"
      },
      "source": [
        "1. https://www.theguardian.com/world/ng-interactive/2020/apr/23/coronavirus-map-of-the-us-latest-cases-state-by-state\n",
        "2. https://www.cdc.gov/coronavirus/2019-ncov/cases-updates/cases-in-us.html\n",
        "\n",
        "We selected these two valid sources because they provide the most up to date coronavirus cases per state in the United States. The first source we chose provides reliable data to the viewer by showing us how many cases each state has, as well as the total amount of deaths per state. This source also shows us the hotspots where the virus is spreading the most in addition to the states where there are very few cases. This website does a really good job in highlighting the hotspots and cold spots across the country with also providing updated numbers for each state. The second source we chose is from cdc.gov and is similar to the previous source because it shows us the general estimate of Covid-19 cases per state. The difference with this source is that it shows the amount of cases per age group as well as ethnicity. While this website gives a range of the total amount of cases, it is a very good source to use for our case study because it will make it easier to interpret the similarities and differences among races and age groups. We think that combining these two sources in our visual will create a better interpretation of how you can look at the data. Adding the data from the sources will be a good way in being able to analyze the effects of the coronavirus in various areas across the country. Lastly, by combining the statistics from the two different sources we think that it will be beneficial to further one's knowledge about the virus, and its effects in different areas around the country"
      ]
    },
    {
      "cell_type": "markdown",
      "metadata": {
        "id": "kDgSdoQUgg2Z",
        "colab_type": "text"
      },
      "source": [
        "#### Sources"
      ]
    },
    {
      "cell_type": "markdown",
      "metadata": {
        "id": "dFzYIi0Agi2_",
        "colab_type": "text"
      },
      "source": [
        "1. theguardian.com - Coronavirus map of the US: latest cases state by state\n",
        "https://www.theguardian.com/world/ng-interactive/2020/apr/23/coronavirus-map-of-the-us-latest-cases-state-by-state\n",
        "\n",
        "2. cdc.gov - Cases of Coronavirus Disease (COVID-19) in the U.S.\n",
        "https://www.cdc.gov/coronavirus/2019-ncov/cases-updates/cases-in-us.html"
      ]
    },
    {
      "cell_type": "markdown",
      "metadata": {
        "id": "qcFak2v7g3jt",
        "colab_type": "text"
      },
      "source": [
        "## Dashboard"
      ]
    },
    {
      "cell_type": "code",
      "metadata": {
        "id": "knG79vNP0Q0u",
        "colab_type": "code",
        "outputId": "12189bf4-4d71-4c35-f5bd-a39f8f9f58ba",
        "colab": {
          "base_uri": "https://localhost:8080/",
          "height": 844
        }
      },
      "source": [
        "import IPython\n",
        "IPython.display.HTML(\"<div class='tableauPlaceholder' id='viz1588040125004' style='position: relative'><noscript><a href=''><img alt=' ' src='https:&#47;&#47;public.tableau.com&#47;static&#47;images&#47;CO&#47;COVID-19PerState&#47;Dashboard1&#47;1_rss.png' style='border: none' /></a></noscript><object class='tableauViz'  style='display:none;'><param name='host_url' value='https%3A%2F%2Fpublic.tableau.com%2F' /> <param name='embed_code_version' value='3' /> <param name='site_root' value='' /><param name='name' value='COVID-19PerState&#47;Dashboard1' /><param name='tabs' value='no' /><param name='toolbar' value='yes' /><param name='static_image' value='https:&#47;&#47;public.tableau.com&#47;static&#47;images&#47;CO&#47;COVID-19PerState&#47;Dashboard1&#47;1.png' /> <param name='animate_transition' value='yes' /><param name='display_static_image' value='yes' /><param name='display_spinner' value='yes' /><param name='display_overlay' value='yes' /><param name='display_count' value='yes' /><param name='filter' value='publish=yes' /></object></div>                <script type='text/javascript'>                    var divElement = document.getElementById('viz1588040125004');                    var vizElement = divElement.getElementsByTagName('object')[0];                    if ( divElement.offsetWidth > 800 ) { vizElement.style.width='1000px';vizElement.style.height='827px';} else if ( divElement.offsetWidth > 500 ) { vizElement.style.width='1000px';vizElement.style.height='827px';} else { vizElement.style.width='100%';vizElement.style.height='827px';}                     var scriptElement = document.createElement('script');                    scriptElement.src = 'https://public.tableau.com/javascripts/api/viz_v1.js';                    vizElement.parentNode.insertBefore(scriptElement, vizElement);                </script>\") "
      ],
      "execution_count": 0,
      "outputs": [
        {
          "output_type": "execute_result",
          "data": {
            "text/html": [
              "<div class='tableauPlaceholder' id='viz1588040125004' style='position: relative'><noscript><a href=''><img alt=' ' src='https:&#47;&#47;public.tableau.com&#47;static&#47;images&#47;CO&#47;COVID-19PerState&#47;Dashboard1&#47;1_rss.png' style='border: none' /></a></noscript><object class='tableauViz'  style='display:none;'><param name='host_url' value='https%3A%2F%2Fpublic.tableau.com%2F' /> <param name='embed_code_version' value='3' /> <param name='site_root' value='' /><param name='name' value='COVID-19PerState&#47;Dashboard1' /><param name='tabs' value='no' /><param name='toolbar' value='yes' /><param name='static_image' value='https:&#47;&#47;public.tableau.com&#47;static&#47;images&#47;CO&#47;COVID-19PerState&#47;Dashboard1&#47;1.png' /> <param name='animate_transition' value='yes' /><param name='display_static_image' value='yes' /><param name='display_spinner' value='yes' /><param name='display_overlay' value='yes' /><param name='display_count' value='yes' /><param name='filter' value='publish=yes' /></object></div>                <script type='text/javascript'>                    var divElement = document.getElementById('viz1588040125004');                    var vizElement = divElement.getElementsByTagName('object')[0];                    if ( divElement.offsetWidth > 800 ) { vizElement.style.width='1000px';vizElement.style.height='827px';} else if ( divElement.offsetWidth > 500 ) { vizElement.style.width='1000px';vizElement.style.height='827px';} else { vizElement.style.width='100%';vizElement.style.height='827px';}                     var scriptElement = document.createElement('script');                    scriptElement.src = 'https://public.tableau.com/javascripts/api/viz_v1.js';                    vizElement.parentNode.insertBefore(scriptElement, vizElement);                </script>"
            ],
            "text/plain": [
              "<IPython.core.display.HTML object>"
            ]
          },
          "metadata": {
            "tags": []
          },
          "execution_count": 1
        }
      ]
    },
    {
      "cell_type": "markdown",
      "metadata": {
        "id": "SvWfnlDjnos1",
        "colab_type": "text"
      },
      "source": [
        "## Conclusion"
      ]
    },
    {
      "cell_type": "markdown",
      "metadata": {
        "id": "rfWefr2gnxOG",
        "colab_type": "text"
      },
      "source": [
        "\n",
        "> The original goal of our project was to provide the viewer with updated statistics and visuals so that they will be able to compare and contrast the severity of the coronavirus between the 50 states. By examining our written report and visualization, the viewer will be able to draw their own inferences about why each state has more or less cases than others. The Data provided from both The Guardian and the CDC has helped us present a visual of the confirmed cases of the Corona Virus per state. By doing so we were able to achieve our original goal of providing an accurate up to date visual aid to allow for comparing and contrasting the severity of coronavirus cases per state. We learned that the data regarding the Corona Virus itself is difficult to interpret at face value. Prior to creating a visual aid in Tableau, the information provided concerning the Corona Virus wasn’t easily understandable. The use of Tableau and creating a map of the Corona Virus outbreaks in a state by state manor made it possible to view a much clearer representation of the severity across the United States. After analyzing the Corona Virus data, we were able to come to the conclusion that most of our assumptions for the data model were correct. Specifically, the assumptions that New York has the most Covid-19 Cases in the US, the number of East Coast cases far outnumber those of the West Coast and that states with major cities have more cases. Those were three assumptions that were blatantly clear after processing the data and allowed for us to place New York City as the Epicenter of the Corona Virus in the US. New York City is located along the East Coast, has a very high-density population and is one of the largest cities in America. Along with confirming most of our assumptions we learned that states surrounding hotspot areas were also very high in confirmed cases. Understanding that the states surrounding hotspots are also high in confirmed cases helps to shape various precautions that should be taken. The severity of confirmed cases per state helps for people to make their own judgments regarding things such as social distancing rules. Guidelines for states to begin to reopen are going to be based upon the cases per state. On the opposite end, states containing very low numbers of confirmed cases are able to easily understand how severe it is in their area compared to the rest of the country. States that contain a low number of confirmed cases are easily illustrated from the data. Our group also learned about the vast amount of false data surrounding the Corona Virus. During our research for data sources regarding the Corona Virus we were able to also find news articles depicting quarantine protests occurring primarily in areas least affected. After providing a graph of the severity of the cases in each state, we’ve allowed for viewers the opportunity to make their own assumptions about Corona Virus regarding their state.\n"
      ]
    }
  ]
}