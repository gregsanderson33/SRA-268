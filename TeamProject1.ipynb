{
  "nbformat": 4,
  "nbformat_minor": 0,
  "metadata": {
    "colab": {
      "name": "Copy of TeamProject1.ipynb",
      "provenance": [],
      "collapsed_sections": [],
      "include_colab_link": true
    },
    "kernelspec": {
      "name": "python3",
      "display_name": "Python 3"
    }
  },
  "cells": [
    {
      "cell_type": "markdown",
      "metadata": {
        "id": "view-in-github",
        "colab_type": "text"
      },
      "source": [
        "<a href=\"https://colab.research.google.com/github/gregsanderson33/SRA-268/blob/master/TeamProject1.ipynb\" target=\"_parent\"><img src=\"https://colab.research.google.com/assets/colab-badge.svg\" alt=\"Open In Colab\"/></a>"
      ]
    },
    {
      "cell_type": "markdown",
      "metadata": {
        "id": "Z6LQsJBU1vHd",
        "colab_type": "text"
      },
      "source": [
        "## Title: something something"
      ]
    },
    {
      "cell_type": "markdown",
      "metadata": {
        "id": "kW6Cbvo82Sys",
        "colab_type": "text"
      },
      "source": [
        "#### Creators\n",
        "\n",
        "\n",
        "*   Name here\n",
        "*   Name here\n"
      ]
    },
    {
      "cell_type": "markdown",
      "metadata": {
        "id": "cixXSM4I12Yw",
        "colab_type": "text"
      },
      "source": [
        "### Original Project (Lab Assignment 1)"
      ]
    },
    {
      "cell_type": "markdown",
      "metadata": {
        "id": "3Xny9mL615LM",
        "colab_type": "text"
      },
      "source": [
        "Write-up of original project (Lab Assignment 1)"
      ]
    },
    {
      "cell_type": "markdown",
      "metadata": {
        "id": "cQSlrfVW19HW",
        "colab_type": "text"
      },
      "source": [
        "<Insert Image of the (Lab Assignment 1)>"
      ]
    },
    {
      "cell_type": "markdown",
      "metadata": {
        "id": "NEQgzUl32GVZ",
        "colab_type": "text"
      },
      "source": [
        "Conclusion of original project (Lab Assignment 1)"
      ]
    },
    {
      "cell_type": "markdown",
      "metadata": {
        "id": "ROM_QFLo2KyH",
        "colab_type": "text"
      },
      "source": [
        "### Team Project 1"
      ]
    },
    {
      "cell_type": "markdown",
      "metadata": {
        "id": "Q5t3T7W-Hki8",
        "colab_type": "text"
      },
      "source": [
        "Updated write-up for team project 1"
      ]
    },
    {
      "cell_type": "markdown",
      "metadata": {
        "id": "YBMMWB2oHrRB",
        "colab_type": "text"
      },
      "source": [
        "#### The Good"
      ]
    },
    {
      "cell_type": "markdown",
      "metadata": {
        "id": "ITlYgwM6Ht8K",
        "colab_type": "text"
      },
      "source": [
        "Why it is good."
      ]
    },
    {
      "cell_type": "code",
      "metadata": {
        "id": "_0eP3qoh2QD0",
        "colab_type": "code",
        "outputId": "ac367362-f0e1-427a-b066-c29aab4b5b01",
        "colab": {
          "base_uri": "https://localhost:8080/",
          "height": 644
        }
      },
      "source": [
        "import IPython\n",
        "IPython.display.HTML(\"x\")\n",
        "IPython.display.HTML(\"<div class='tableauPlaceholder' id='viz1580399076918' style='position: relative;width:800px;height:800px;'><noscript><a href='#'><img alt=' ' src='https:&#47;&#47;public.tableau.com&#47;static&#47;images&#47;Wa&#47;WarmestDecember&#47;Story1&#47;1_rss.png' style='border: none' /></a></noscript><object class='tableauViz'  style='display:none;'><param name='host_url' value='https%3A%2F%2Fpublic.tableau.com%2F' /> <param name='embed_code_version' value='3' /> <param name='site_root' value='' /><param name='name' value='WarmestDecember&#47;Story1' /><param name='tabs' value='no' /><param name='toolbar' value='yes' /><param name='static_image' value='https:&#47;&#47;public.tableau.com&#47;static&#47;images&#47;Wa&#47;WarmestDecember&#47;Story1&#47;1.png' /> <param name='animate_transition' value='yes' /><param name='display_static_image' value='yes' /><param name='display_spinner' value='yes' /><param name='display_overlay' value='yes' /><param name='display_count' value='yes' /><param name='filter' value='publish=yes' /></object></div>                <script type='text/javascript'>                    var divElement = document.getElementById('viz1580399076918');                    var vizElement = divElement.getElementsByTagName('object')[0];                    vizElement.style.width='800px';vizElement.style.height='627px';                    var scriptElement = document.createElement('script');                    scriptElement.src = 'https://public.tableau.com/javascripts/api/viz_v1.js';                    vizElement.parentNode.insertBefore(scriptElement, vizElement);                </script>\") # can't find image "
      ],
      "execution_count": 0,
      "outputs": [
        {
          "output_type": "execute_result",
          "data": {
            "text/html": [
              "<div class='tableauPlaceholder' id='viz1580399076918' style='position: relative;width:800px;height:800px;'><noscript><a href='#'><img alt=' ' src='https:&#47;&#47;public.tableau.com&#47;static&#47;images&#47;Wa&#47;WarmestDecember&#47;Story1&#47;1_rss.png' style='border: none' /></a></noscript><object class='tableauViz'  style='display:none;'><param name='host_url' value='https%3A%2F%2Fpublic.tableau.com%2F' /> <param name='embed_code_version' value='3' /> <param name='site_root' value='' /><param name='name' value='WarmestDecember&#47;Story1' /><param name='tabs' value='no' /><param name='toolbar' value='yes' /><param name='static_image' value='https:&#47;&#47;public.tableau.com&#47;static&#47;images&#47;Wa&#47;WarmestDecember&#47;Story1&#47;1.png' /> <param name='animate_transition' value='yes' /><param name='display_static_image' value='yes' /><param name='display_spinner' value='yes' /><param name='display_overlay' value='yes' /><param name='display_count' value='yes' /><param name='filter' value='publish=yes' /></object></div>                <script type='text/javascript'>                    var divElement = document.getElementById('viz1580399076918');                    var vizElement = divElement.getElementsByTagName('object')[0];                    vizElement.style.width='800px';vizElement.style.height='627px';                    var scriptElement = document.createElement('script');                    scriptElement.src = 'https://public.tableau.com/javascripts/api/viz_v1.js';                    vizElement.parentNode.insertBefore(scriptElement, vizElement);                </script>"
            ],
            "text/plain": [
              "<IPython.core.display.HTML object>"
            ]
          },
          "metadata": {
            "tags": []
          },
          "execution_count": 23
        }
      ]
    },
    {
      "cell_type": "markdown",
      "metadata": {
        "id": "vZ__tY4XINir",
        "colab_type": "text"
      },
      "source": [
        "#### The Bad"
      ]
    },
    {
      "cell_type": "markdown",
      "metadata": {
        "id": "DszQ1tGVIRQq",
        "colab_type": "text"
      },
      "source": [
        "Why it is bad."
      ]
    },
    {
      "cell_type": "code",
      "metadata": {
        "id": "exP8QkajF7Du",
        "colab_type": "code",
        "outputId": "b55b6e68-84a7-4ded-ca13-2cc30c4ebed2",
        "colab": {
          "base_uri": "https://localhost:8080/",
          "height": 644
        }
      },
      "source": [
        "import IPython\n",
        "IPython.display.HTML(\"x\")\n",
        "IPython.display.HTML(\"<div class='tableauPlaceholder' id='viz1580399076918' style='position: relative;width:800px;height:800px;'><noscript><a href='#'><img alt=' ' src='https:&#47;&#47;public.tableau.com&#47;static&#47;images&#47;Wa&#47;WarmestDecember&#47;Story1&#47;1_rss.png' style='border: none' /></a></noscript><object class='tableauViz'  style='display:none;'><param name='host_url' value='https%3A%2F%2Fpublic.tableau.com%2F' /> <param name='embed_code_version' value='3' /> <param name='site_root' value='' /><param name='name' value='WarmestDecember&#47;Story1' /><param name='tabs' value='no' /><param name='toolbar' value='yes' /><param name='static_image' value='https:&#47;&#47;public.tableau.com&#47;static&#47;images&#47;Wa&#47;WarmestDecember&#47;Story1&#47;1.png' /> <param name='animate_transition' value='yes' /><param name='display_static_image' value='yes' /><param name='display_spinner' value='yes' /><param name='display_overlay' value='yes' /><param name='display_count' value='yes' /><param name='filter' value='publish=yes' /></object></div>                <script type='text/javascript'>                    var divElement = document.getElementById('viz1580399076918');                    var vizElement = divElement.getElementsByTagName('object')[0];                    vizElement.style.width='800px';vizElement.style.height='627px';                    var scriptElement = document.createElement('script');                    scriptElement.src = 'https://public.tableau.com/javascripts/api/viz_v1.js';                    vizElement.parentNode.insertBefore(scriptElement, vizElement);                </script>\") # can't find image "
      ],
      "execution_count": 0,
      "outputs": [
        {
          "output_type": "execute_result",
          "data": {
            "text/html": [
              "<div class='tableauPlaceholder' id='viz1580399076918' style='position: relative;width:800px;height:800px;'><noscript><a href='#'><img alt=' ' src='https:&#47;&#47;public.tableau.com&#47;static&#47;images&#47;Wa&#47;WarmestDecember&#47;Story1&#47;1_rss.png' style='border: none' /></a></noscript><object class='tableauViz'  style='display:none;'><param name='host_url' value='https%3A%2F%2Fpublic.tableau.com%2F' /> <param name='embed_code_version' value='3' /> <param name='site_root' value='' /><param name='name' value='WarmestDecember&#47;Story1' /><param name='tabs' value='no' /><param name='toolbar' value='yes' /><param name='static_image' value='https:&#47;&#47;public.tableau.com&#47;static&#47;images&#47;Wa&#47;WarmestDecember&#47;Story1&#47;1.png' /> <param name='animate_transition' value='yes' /><param name='display_static_image' value='yes' /><param name='display_spinner' value='yes' /><param name='display_overlay' value='yes' /><param name='display_count' value='yes' /><param name='filter' value='publish=yes' /></object></div>                <script type='text/javascript'>                    var divElement = document.getElementById('viz1580399076918');                    var vizElement = divElement.getElementsByTagName('object')[0];                    vizElement.style.width='800px';vizElement.style.height='627px';                    var scriptElement = document.createElement('script');                    scriptElement.src = 'https://public.tableau.com/javascripts/api/viz_v1.js';                    vizElement.parentNode.insertBefore(scriptElement, vizElement);                </script>"
            ],
            "text/plain": [
              "<IPython.core.display.HTML object>"
            ]
          },
          "metadata": {
            "tags": []
          },
          "execution_count": 21
        }
      ]
    },
    {
      "cell_type": "markdown",
      "metadata": {
        "id": "NnaYvuAIIkPV",
        "colab_type": "text"
      },
      "source": [
        "#### The Ugly"
      ]
    },
    {
      "cell_type": "markdown",
      "metadata": {
        "id": "MjmwGWTlIlOi",
        "colab_type": "text"
      },
      "source": [
        "Why it is bad."
      ]
    },
    {
      "cell_type": "code",
      "metadata": {
        "id": "NQXOfUYSISyG",
        "colab_type": "code",
        "outputId": "1f7e4153-c667-4304-d4b3-8d70e8073154",
        "colab": {
          "base_uri": "https://localhost:8080/",
          "height": 644
        }
      },
      "source": [
        "import IPython\n",
        "IPython.display.HTML(\"x\")\n",
        "IPython.display.HTML(\"<div class='tableauPlaceholder' id='viz1580399076918' style='position: relative;width:800px;height:800px;'><noscript><a href='#'><img alt=' ' src='https:&#47;&#47;public.tableau.com&#47;static&#47;images&#47;Wa&#47;WarmestDecember&#47;Story1&#47;1_rss.png' style='border: none' /></a></noscript><object class='tableauViz'  style='display:none;'><param name='host_url' value='https%3A%2F%2Fpublic.tableau.com%2F' /> <param name='embed_code_version' value='3' /> <param name='site_root' value='' /><param name='name' value='WarmestDecember&#47;Story1' /><param name='tabs' value='no' /><param name='toolbar' value='yes' /><param name='static_image' value='https:&#47;&#47;public.tableau.com&#47;static&#47;images&#47;Wa&#47;WarmestDecember&#47;Story1&#47;1.png' /> <param name='animate_transition' value='yes' /><param name='display_static_image' value='yes' /><param name='display_spinner' value='yes' /><param name='display_overlay' value='yes' /><param name='display_count' value='yes' /><param name='filter' value='publish=yes' /></object></div>                <script type='text/javascript'>                    var divElement = document.getElementById('viz1580399076918');                    var vizElement = divElement.getElementsByTagName('object')[0];                    vizElement.style.width='800px';vizElement.style.height='627px';                    var scriptElement = document.createElement('script');                    scriptElement.src = 'https://public.tableau.com/javascripts/api/viz_v1.js';                    vizElement.parentNode.insertBefore(scriptElement, vizElement);                </script>\") # can't find image "
      ],
      "execution_count": 0,
      "outputs": [
        {
          "output_type": "execute_result",
          "data": {
            "text/html": [
              "<div class='tableauPlaceholder' id='viz1580399076918' style='position: relative;width:800px;height:800px;'><noscript><a href='#'><img alt=' ' src='https:&#47;&#47;public.tableau.com&#47;static&#47;images&#47;Wa&#47;WarmestDecember&#47;Story1&#47;1_rss.png' style='border: none' /></a></noscript><object class='tableauViz'  style='display:none;'><param name='host_url' value='https%3A%2F%2Fpublic.tableau.com%2F' /> <param name='embed_code_version' value='3' /> <param name='site_root' value='' /><param name='name' value='WarmestDecember&#47;Story1' /><param name='tabs' value='no' /><param name='toolbar' value='yes' /><param name='static_image' value='https:&#47;&#47;public.tableau.com&#47;static&#47;images&#47;Wa&#47;WarmestDecember&#47;Story1&#47;1.png' /> <param name='animate_transition' value='yes' /><param name='display_static_image' value='yes' /><param name='display_spinner' value='yes' /><param name='display_overlay' value='yes' /><param name='display_count' value='yes' /><param name='filter' value='publish=yes' /></object></div>                <script type='text/javascript'>                    var divElement = document.getElementById('viz1580399076918');                    var vizElement = divElement.getElementsByTagName('object')[0];                    vizElement.style.width='800px';vizElement.style.height='627px';                    var scriptElement = document.createElement('script');                    scriptElement.src = 'https://public.tableau.com/javascripts/api/viz_v1.js';                    vizElement.parentNode.insertBefore(scriptElement, vizElement);                </script>"
            ],
            "text/plain": [
              "<IPython.core.display.HTML object>"
            ]
          },
          "metadata": {
            "tags": []
          },
          "execution_count": 22
        }
      ]
    },
    {
      "cell_type": "code",
      "metadata": {
        "id": "e3SKAxePKem_",
        "colab_type": "code",
        "colab": {}
      },
      "source": [
        ""
      ],
      "execution_count": 0,
      "outputs": []
    }
  ]
}