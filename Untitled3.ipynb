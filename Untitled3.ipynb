{
  "nbformat": 4,
  "nbformat_minor": 0,
  "metadata": {
    "colab": {
      "name": "Untitled3.ipynb",
      "provenance": [],
      "collapsed_sections": [],
      "authorship_tag": "ABX9TyMlCQhUq/8IEX5XcsTAmAoC",
      "include_colab_link": true
    },
    "kernelspec": {
      "name": "python3",
      "display_name": "Python 3"
    }
  },
  "cells": [
    {
      "cell_type": "markdown",
      "metadata": {
        "id": "view-in-github",
        "colab_type": "text"
      },
      "source": [
        "<a href=\"https://colab.research.google.com/github/gregsanderson33/SRA-268/blob/master/Untitled3.ipynb\" target=\"_parent\"><img src=\"https://colab.research.google.com/assets/colab-badge.svg\" alt=\"Open In Colab\"/></a>"
      ]
    },
    {
      "cell_type": "code",
      "metadata": {
        "id": "mNSIcuQ8NMaA",
        "colab_type": "code",
        "colab": {}
      },
      "source": [
        ""
      ],
      "execution_count": 0,
      "outputs": []
    },
    {
      "cell_type": "markdown",
      "metadata": {
        "id": "vx5kYLbbOK76",
        "colab_type": "text"
      },
      "source": [
        "# Amount of Precipitation in State College \n"
      ]
    },
    {
      "cell_type": "markdown",
      "metadata": {
        "id": "6EiUQLkJOcKn",
        "colab_type": "text"
      },
      "source": [
        "# Outline of Data"
      ]
    },
    {
      "cell_type": "markdown",
      "metadata": {
        "id": "qaqZesPNE_3O",
        "colab_type": "text"
      },
      "source": [
        "In this assignment we will be looking at different datasets for the amount of precipitation per day since 2017. We will be comparing and analyzing any trends that we notice during each month and season in order to figure out a pattern for State College weather. We will also be using a sketch to better understand the weather patterns that were presented to us. "
      ]
    },
    {
      "cell_type": "markdown",
      "metadata": {
        "id": "_OhBUpKMOgGI",
        "colab_type": "text"
      },
      "source": [
        "# Graph"
      ]
    },
    {
      "cell_type": "markdown",
      "metadata": {
        "id": "4lX05ISXZncM",
        "colab_type": "text"
      },
      "source": [
        "![alt text](https://raw.githubusercontent.com/gregsanderson33/SRA-268/master/images/57257AFF-1FBD-49A1-871C-C350E01F9FBD.jpeg)\n"
      ]
    },
    {
      "cell_type": "markdown",
      "metadata": {
        "id": "_GuVaLmQOkwz",
        "colab_type": "text"
      },
      "source": [
        "# Conclusion"
      ]
    },
    {
      "cell_type": "markdown",
      "metadata": {
        "id": "AGYJPWH3aBdT",
        "colab_type": "text"
      },
      "source": [
        "After analyzing and looking at the data for the different months, I concluded that October and May are the months with the highest amount of precipitation. The month with the lowest amount of precipitation was December. By looking at the graph I provided, you can tell that there was no linear pattern and that the months varied in the different amounts of precipitation on average. "
      ]
    }
  ]
}